{
 "cells": [
  {
   "cell_type": "markdown",
   "metadata": {},
   "source": [
    "# Define LSTM model and forward & backward propagation\n",
    "We will create the weights for the following cell:\n",
    "![title](files/lstm.png)\n"
   ]
  },
  {
   "cell_type": "code",
   "execution_count": 1,
   "metadata": {},
   "outputs": [],
   "source": [
    "import numpy as np\n",
    "\n",
    "# activation functions\n",
    "def sigmoid(x):\n",
    "    z = 1/(1 + np.exp(-x)) \n",
    "    return z\n",
    "def dtanh(x):\n",
    "    return 1./(np.cosh(x)**2)\n",
    "def dsigmoid(x):\n",
    "    s = sigmoid(x)\n",
    "    return (s)*(1-s)\n",
    "\n",
    "# create LSTM weights & biases (i.e. model)\n",
    "def define_lstm(x_dim, state_dim):\n",
    "\n",
    "    output_dim = state_dim\n",
    "\n",
    "    model = dict()\n",
    "\n",
    "    # WEIGHTS\n",
    "    # forget gate\n",
    "    model['Wf'] = np.random.randn(state_dim,x_dim + output_dim) / np.sqrt(x_dim + output_dim) # \"Xavier\" initialization\n",
    "    # input gate\n",
    "    model['Wi'] = np.random.randn(state_dim,x_dim + output_dim) / np.sqrt(x_dim + output_dim)\n",
    "    # input activation\n",
    "    model['Wa'] = np.random.randn(state_dim,x_dim + output_dim) / np.sqrt(x_dim + output_dim)\n",
    "    # sigmoid #3\n",
    "    model['Wo'] = np.random.randn(output_dim,x_dim + output_dim) / np.sqrt(x_dim + output_dim)\n",
    "\n",
    "    # BIASES\n",
    "    model['bf'] = np.random.randn(state_dim)\n",
    "    model['bi'] = np.random.randn(state_dim)\n",
    "    model['ba'] = np.random.randn(state_dim)\n",
    "    model['bo'] = np.random.randn(output_dim)\n",
    "    \n",
    "    return model\n",
    "\n",
    "\n",
    "# FORWARD Prop\n",
    "\n",
    "def propagate_forward(x,h,state):\n",
    "    global model\n",
    "    xh = np.concatenate((x,h))\n",
    "    \n",
    "    hf = sigmoid(np.dot(model['Wf'], xh) + model['bf'])\n",
    "    hi = sigmoid(np.dot(model['Wi'], xh) + model['bi'])\n",
    "    ha = np.tanh(np.dot(model['Wa'], xh) + model['ba'])\n",
    "    ho = sigmoid(np.dot(model['Wo'], xh) + model['bo'])\n",
    "    \n",
    "    # information of the previous state we want to remember\n",
    "    forget_state = np.multiply(hf, state)\n",
    "    \n",
    "    # how the current input updates the state \n",
    "    input_state_update = np.multiply(hi, ha)\n",
    "    \n",
    "    # we add up info from the previous state + info from the current input\n",
    "    state_out = np.add(forget_state, input_state_update)\n",
    "    \n",
    "    \n",
    "    tanh_state = np.tanh(state_out)\n",
    "    x_out = np.multiply(ho, tanh_state)\n",
    "    \n",
    "    forward_result = [hf, hi, ha, ho, forget_state, input_state_update, state_out, tanh_state, x_out, xh, state]\n",
    "    \n",
    "    return forward_result\n",
    "\n",
    "\n",
    "# BACKPROP\n",
    "\n",
    "# The main idea here is that if you have a multidimensional function y(x), and you want to tweak the input x\n",
    "# for y(x) to move in a direction vector dy, you need to modify x in the direction dx = y'(x) * dy, and luckily\n",
    "# here w = y'(x)\n",
    "\n",
    "# Now if we consider that THE WEIGHTS are the inputs, dw = y'(w) * dy, and here y'(w) = x\n",
    "\n",
    "\n",
    "# regarding the activation functions, if y = tanh(Wx+b), y'(x) = tanh'(Wx+b)*W, dx = \n",
    "\n",
    "\n",
    "def dense_backprop(y, dy, W, x, activation):\n",
    "    \n",
    "    if activation == 'tanh':\n",
    "        d_preactivation_y = dy * (1 - y**2)\n",
    "    elif activation == 'sigmoid':\n",
    "        d_preactivation_y = dy * (y)*(1.-y) # dsigmoid = sigmoid * (1 - sigmoid)\n",
    "    else:\n",
    "        print('shiiiit')\n",
    "        return 0\n",
    "    \n",
    "    \n",
    "    # bias update\n",
    "    db = d_preactivation_y\n",
    "    # W update\n",
    "    dw = np.outer(d_preactivation_y, x)\n",
    "    # 'input update', or how we backpropagate the output error to the input error   \n",
    "    dx = np.dot(d_preactivation_y, W)\n",
    "\n",
    "    return dw, db, dx\n",
    "\n",
    "def lstm_backprop(forward_prop_result, d_x_out, d_state_out_given):\n",
    "    \n",
    "    global model\n",
    "    \n",
    "    # forward propagation results\n",
    "    hf, hi, ha, ho, forget_state, input_state_update, state_out, tanh_state, x_out, xh, state = forward_prop_result\n",
    "    \n",
    "    # product backprop\n",
    "    d_tanh_state = d_x_out * ho\n",
    "    d_ho = d_x_out * tanh_state\n",
    "    \n",
    "    d_state_out = d_tanh_state * dtanh(state_out) + d_state_out_given\n",
    "    \n",
    "    \n",
    "    # sum backprop\n",
    "    d_forget_state = d_state_out\n",
    "    d_input_state_update = d_state_out\n",
    "    \n",
    "    # product backprop\n",
    "    d_hi = d_input_state_update * ha\n",
    "    d_ha = d_input_state_update * hi\n",
    "    \n",
    "    d_hf = d_forget_state * state\n",
    "    d_state = d_forget_state * hf\n",
    "    \n",
    "    dwf, dbf, dxf = dense_backprop(hf, d_hf, model['Wf'], xh, 'sigmoid')\n",
    "    dwi, dbi, dxi = dense_backprop(hi, d_hi, model['Wi'], xh, 'sigmoid')\n",
    "    dwa, dba, dxa = dense_backprop(ha, d_ha, model['Wa'], xh, 'tanh')\n",
    "    dwo, dbo, dxo = dense_backprop(ho, d_ho, model['Wo'], xh, 'sigmoid')\n",
    "    dx = dxf + dxi + dxa + dxo\n",
    "    \n",
    "    backprop_info = [dwf, dbf, dwi, dbi, dwa, dba, dwo, dbo, dx, d_state]\n",
    "\n",
    "    return backprop_info\n",
    "\n",
    "def backprop_multiple_timesteps(x,y):\n",
    "    global model\n",
    "    x_dim, state_dim = len(x[0]), len(y[0])\n",
    "\n",
    "    forwardprop_results = []\n",
    "\n",
    "    h_t = np.zeros(state_dim)\n",
    "    state_t = np.zeros(state_dim)\n",
    "    timesteps = len(x)\n",
    "\n",
    "    for t in range(timesteps):\n",
    "        x_t = x[t]\n",
    "\n",
    "        forward_result = propagate_forward(x_t, h_t, state_t)\n",
    "        hf, hi, ha, ho, forget_state, input_state_update, state_out, tanh_state, x_out, xh, state = forward_result\n",
    "        h_t = x_out\n",
    "        state_t = state_out\n",
    "        forwardprop_results.append(forward_result)\n",
    "\n",
    "\n",
    "    dx_next = np.zeros(state_dim)\n",
    "    d_state = np.zeros(state_dim)\n",
    "\n",
    "    backprop_results = []\n",
    "\n",
    "    for s in range(timesteps):\n",
    "        t = timesteps - s - 1\n",
    "        forward_result = forwardprop_results[t]\n",
    "        hf, hi, ha, ho, forget_state, input_state_update, state_out, tanh_state, x_out, xh, state = forward_result\n",
    "        y_t = y[t]\n",
    "\n",
    "        d_out = x_out - y_t + dx_next\n",
    "\n",
    "        backprop_info = lstm_backprop(forward_result, d_out, d_state)\n",
    "        [dwf, dbf, dwi, dbi, dwa, dba, dwo, dbo, dx, d_state] = backprop_info\n",
    "        dx_next = dx[-state_dim:]\n",
    "\n",
    "        backprop_results.append(backprop_info)\n",
    "\n",
    "    return backprop_results\n"
   ]
  },
  {
   "cell_type": "markdown",
   "metadata": {},
   "source": [
    "## Check everything is OK (no bugs) with the numerical example here:\n",
    "##### https://medium.com/@aidangomez/let-s-do-this-f9b699de31d9"
   ]
  },
  {
   "cell_type": "code",
   "execution_count": 2,
   "metadata": {},
   "outputs": [],
   "source": [
    "x_dim = 2\n",
    "state_dim = 1\n",
    "model = define_lstm(x_dim, state_dim)\n",
    "\n",
    "model['Wa'][0] = [0.45, 0.25, 0.15]\n",
    "model['Wi'][0] = [0.95, 0.8, 0.8]\n",
    "model['Wf'][0] = [0.7, 0.45, 0.1]\n",
    "model['Wo'][0] = [0.6, 0.4, 0.25]\n",
    "\n",
    "model['ba'] = [0.2]\n",
    "model['bi'] = [0.65]\n",
    "model['bf'] = [0.15]\n",
    "model['bo'] = [0.1]\n",
    "\n",
    "x0 = np.array([1., 2.])\n",
    "x1 = np.array([0.5, 3.])\n",
    "\n",
    "y0 = np.array([0.5])\n",
    "y1 = np.array([1.25])"
   ]
  },
  {
   "cell_type": "code",
   "execution_count": 5,
   "metadata": {},
   "outputs": [],
   "source": [
    "h0 = np.zeros(1)\n",
    "state0 = np.zeros(1)\n",
    "\n",
    "forward_result0 = propagate_forward(x0,h0,state0)\n",
    "hf, hi, ha, ho, forget_state, input_state_update, state_out, tanh_state, x_out, xh, state = forward_result0"
   ]
  },
  {
   "cell_type": "markdown",
   "metadata": {},
   "source": [
    "![title](files/x0.png)"
   ]
  },
  {
   "cell_type": "code",
   "execution_count": 6,
   "metadata": {},
   "outputs": [
    {
     "data": {
      "text/plain": [
       "[array([0.8519528]),\n",
       " array([0.96083428]),\n",
       " array([0.81775408]),\n",
       " array([0.81757448]),\n",
       " array([0.]),\n",
       " array([0.78572615]),\n",
       " array([0.78572615]),\n",
       " array([0.65598109]),\n",
       " array([0.5363134]),\n",
       " array([1., 2., 0.]),\n",
       " array([0.])]"
      ]
     },
     "execution_count": 6,
     "metadata": {},
     "output_type": "execute_result"
    }
   ],
   "source": [
    "forward_result0"
   ]
  },
  {
   "cell_type": "markdown",
   "metadata": {},
   "source": [
    "#### The obtained values and the values in the example picture for x0 match, so probably there are no forwardprop bugs :) "
   ]
  },
  {
   "cell_type": "code",
   "execution_count": 7,
   "metadata": {},
   "outputs": [],
   "source": [
    "h0 = np.zeros(1)\n",
    "state0 = np.zeros(1)\n",
    "\n",
    "forward_result1 = propagate_forward(x1,x_out,state_out)\n",
    "hf, hi, ha, ho, forget_state, input_state_update, state_out, tanh_state, x_out, xh, state = forward_result1"
   ]
  },
  {
   "cell_type": "code",
   "execution_count": 8,
   "metadata": {
    "scrolled": true
   },
   "outputs": [
    {
     "data": {
      "text/plain": [
       "[array([0.87030197]),\n",
       " array([0.98118397]),\n",
       " array([0.84980402]),\n",
       " array([0.84993334]),\n",
       " array([0.68381901]),\n",
       " array([0.83381408]),\n",
       " array([1.5176331]),\n",
       " array([0.90828429]),\n",
       " array([0.77198111]),\n",
       " array([0.5      , 3.       , 0.5363134]),\n",
       " array([0.78572615])]"
      ]
     },
     "execution_count": 8,
     "metadata": {},
     "output_type": "execute_result"
    }
   ],
   "source": [
    "forward_result1"
   ]
  },
  {
   "cell_type": "markdown",
   "metadata": {},
   "source": [
    "#### These match too :) , now, backprop"
   ]
  },
  {
   "cell_type": "code",
   "execution_count": 9,
   "metadata": {},
   "outputs": [
    {
     "data": {
      "text/plain": [
       "array([-0.04742407, -0.03072765, -0.01827526])"
      ]
     },
     "execution_count": 9,
     "metadata": {},
     "output_type": "execute_result"
    }
   ],
   "source": [
    "d_out = x_out - y1\n",
    "d_state = np.zeros(1)\n",
    "\n",
    "backprop_info = lstm_backprop(forward_result1, d_out, d_state)\n",
    "[dwf, dbf, dwi, dbi, dwa, dba, dwo, dbo, dx, d_state] = backprop_info\n",
    "dx"
   ]
  },
  {
   "cell_type": "markdown",
   "metadata": {},
   "source": [
    "#### 2nd timestep backprop works :)"
   ]
  },
  {
   "cell_type": "code",
   "execution_count": 10,
   "metadata": {},
   "outputs": [],
   "source": [
    "hf, hi, ha, ho, forget_state, input_state_update, state_out, tanh_state, x_out, xh, state = forward_result0\n",
    "\n",
    "dx_next = dx[-state_dim:]\n",
    "d_out = x_out - y0 + dx_next\n",
    "d_state = d_state\n",
    "\n",
    "backprop_info = lstm_backprop(forward_result0, d_out, d_state)\n",
    "[dwf, dbf, dwi, dbi, dwa, dba, dwo, dbo, dx, d_state] = backprop_info"
   ]
  },
  {
   "cell_type": "code",
   "execution_count": 11,
   "metadata": {},
   "outputs": [
    {
     "data": {
      "text/plain": [
       "array([-0.00816553, -0.0048668 , -0.00342911])"
      ]
     },
     "execution_count": 11,
     "metadata": {},
     "output_type": "execute_result"
    }
   ],
   "source": [
    "dx"
   ]
  },
  {
   "cell_type": "markdown",
   "metadata": {},
   "source": [
    "#### 1st timestep backprop works :)"
   ]
  },
  {
   "cell_type": "code",
   "execution_count": 12,
   "metadata": {},
   "outputs": [],
   "source": [
    "x_dim = 2\n",
    "state_dim = 1\n",
    "timesteps = 2\n",
    "\n",
    "# create model\n",
    "model = define_lstm(x_dim, state_dim)\n",
    "model['Wa'][0] = [0.45, 0.25, 0.15]\n",
    "model['Wi'][0] = [0.95, 0.8, 0.8]\n",
    "model['Wf'][0] = [0.7, 0.45, 0.1]\n",
    "model['Wo'][0] = [0.6, 0.4, 0.25]\n",
    "\n",
    "model['ba'] = [0.2]\n",
    "model['bi'] = [0.65]\n",
    "model['bf'] = [0.15]\n",
    "model['bo'] = [0.1]\n",
    "\n",
    "# inputs & outputs\n",
    "x0 = np.array([1., 2.])\n",
    "x1 = np.array([0.5, 3.])\n",
    "\n",
    "y0 = np.array([0.5])\n",
    "y1 = np.array([1.25])\n",
    "\n",
    "x = np.array([x0,x1])\n",
    "y = np.array([y0,y1])\n",
    "\n"
   ]
  },
  {
   "cell_type": "code",
   "execution_count": 13,
   "metadata": {},
   "outputs": [],
   "source": [
    "backprop_results = backprop_multiple_timesteps(x,y)\n",
    "\n",
    "Dwf = np.zeros_like(model['Wf'])\n",
    "Dbf = np.zeros_like(model['bf'])\n",
    "Dwi = np.zeros_like(model['Wi'])\n",
    "Dbi = np.zeros_like(model['bi'])\n",
    "Dwa = np.zeros_like(model['Wa'])\n",
    "Dba = np.zeros_like(model['ba'])\n",
    "Dwo = np.zeros_like(model['Wo'])\n",
    "Dbo = np.zeros_like(model['bo'])\n",
    "\n",
    "for result in backprop_results:\n",
    "    [dwf, dbf, dwi, dbi, dwa, dba, dwo, dbo, dx, d_state] = result\n",
    "    Dwf += dwf\n",
    "    Dbf += dbf\n",
    "    Dwi += dwi\n",
    "    Dbi += dbi\n",
    "    Dwa += dwa\n",
    "    Dba += dba\n",
    "    Dwo += dwo\n",
    "    Dbo += dbo\n",
    "    "
   ]
  },
  {
   "cell_type": "code",
   "execution_count": 14,
   "metadata": {},
   "outputs": [
    {
     "data": {
      "text/plain": [
       "array([[-0.00315327, -0.01891963, -0.00338228]])"
      ]
     },
     "execution_count": 14,
     "metadata": {},
     "output_type": "execute_result"
    }
   ],
   "source": [
    "Dwf"
   ]
  },
  {
   "cell_type": "code",
   "execution_count": 15,
   "metadata": {},
   "outputs": [
    {
     "data": {
      "text/plain": [
       "array([[-0.02671622, -0.09220113, -0.01039609]])"
      ]
     },
     "execution_count": 15,
     "metadata": {},
     "output_type": "execute_result"
    }
   ],
   "source": [
    "Dwa"
   ]
  },
  {
   "cell_type": "code",
   "execution_count": 16,
   "metadata": {},
   "outputs": [
    {
     "data": {
      "text/plain": [
       "array([-0.05361303])"
      ]
     },
     "execution_count": 16,
     "metadata": {},
     "output_type": "execute_result"
    }
   ],
   "source": [
    "Dbo"
   ]
  },
  {
   "cell_type": "markdown",
   "metadata": {},
   "source": [
    "### Everything works :) Forward prop and backprop are OK"
   ]
  }
 ],
 "metadata": {
  "kernelspec": {
   "display_name": "Python 3",
   "language": "python",
   "name": "python3"
  },
  "language_info": {
   "codemirror_mode": {
    "name": "ipython",
    "version": 3
   },
   "file_extension": ".py",
   "mimetype": "text/x-python",
   "name": "python",
   "nbconvert_exporter": "python",
   "pygments_lexer": "ipython3",
   "version": "3.6.9"
  }
 },
 "nbformat": 4,
 "nbformat_minor": 2
}
